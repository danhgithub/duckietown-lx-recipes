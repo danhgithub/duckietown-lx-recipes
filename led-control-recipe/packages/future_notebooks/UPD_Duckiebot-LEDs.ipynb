{
 "cells": [
  {
   "cell_type": "markdown",
   "metadata": {},
   "source": [
    "<p align=\"center\">\n",
    "<img src=\"../assets/images/dtlogo.png\" alt=\"Duckietown Logo\" width=\"50%\">\n",
    "</p>"
   ]
  },
  {
   "cell_type": "markdown",
   "metadata": {},
   "source": [
    "# Duckiebot Components - The LEDs\n",
    "\n",
    "Duckiebots have four LEDs, positioned similarly to the head and tail lights on a car.\n",
    "\n",
    "<p align=\"center\">\n",
    "<img src=\"../assets/images/leds_layout.png\" alt=\"Duckiebot LED Layout\" width=\"50%\">\n",
    "</p>\n",
    "\n",
    "You have probably noticed the LEDs changing color to communicate the state of your Duckiebot while booting or running demos. LEDs as actuators on a Duckiebot can be used for many purposes, including\n",
    "\n",
    "* **Lighting** the driving environment\n",
    "* **Indicating** what mode or mission the Duckiebot is running\n",
    "* **Communicating** state changes in the controller\n",
    "* **Signaling** upcoming turns or other navigation plans\n",
    "* **Expressing** character and personality\n",
    "\n",
    "In this Duckietown Learning Experience, we will dive into what's going on behind the scenes and explore how you can control the LEDs with your own custom messages.\n",
    "\n",
    "Let's practice instructing the LEDs on your Duckiebot - changing their color, blinking them at different frequencies, and displaying your own patterns.\n",
    "\n",
    "---"
   ]
  },
  {
   "cell_type": "markdown",
   "metadata": {},
   "source": [
    "## Step 1: Using the LED widget\n",
    "\n",
    "While setting up your Duckiebot, you were able to control the LEDs using the `led_control` command. Try this again by running\n",
    "\n",
    "    dts duckiebot led_control <your_duckiebot>\n",
    "\n",
    "This will bring up the LED control widget, which you can use to send commands to the LEDs.\n",
    "\n",
    "Try updating the LED color, intensity, and frequency to see how your Duckiebot responds."
   ]
  },
  {
   "cell_type": "markdown",
   "metadata": {},
   "source": [
    "<p align=\"center\">\n",
    "<img src=\"../assets/images/\" alt=\"🔴 TODO: Widget image\" width=\"50%\">\n",
    "</p>"
   ]
  },
  {
   "cell_type": "markdown",
   "metadata": {},
   "source": [
    "## Step 2: Understanding the LED message"
   ]
  },
  {
   "cell_type": "markdown",
   "metadata": {},
   "source": [
    "The LED tool you just used set the state of the LEDs on your Duckiebot using a custom Duckietown ROS message: `LEDPattern`. The pattern includes a list of Duckietown `LED` messages that update the color, intensity, and frequency of each individual LED.\n",
    "\n",
    "By sending this message to the *led_emitter* node running on the Duckiebot, we can instruct this node to update the LEDs to the states in the message and display our pattern.\n",
    "\n",
    "You can see the full set of Duckietown ROS messages in the [`msg` directory](https://github.com/duckietown/dt-ros-commons/tree/daffy/packages/duckietown_msgs/msg) of the `dt-ros-commons` respository, but for now we'll just look at the `LEDPattern` and `LED` messages.\n",
    "\n",
    "**LED Pattern**\n",
    "\n",
    "``` bash\n",
    "# LED Pattern Message\n",
    "# This defines a pattern for all 4 LEDs\n",
    "\n",
    "Header header\n",
    "LED[] leds # 0-Front left, 1-Rear left, 2-Rear right, 3-Front right\n",
    "uint8 priority\n",
    "float32 lifespan\n",
    "```\n",
    "\n",
    "**LED**\n",
    "\n",
    "``` bash\n",
    "# LED Message\n",
    "# This defines the state of a single LED\n",
    "\n",
    "Header header\n",
    "std_msgs/ColorRGBA[] color\n",
    "float32 frequency\n",
    "```\n",
    "\n",
    "### What are these messages communicating?\n",
    "\n",
    "These messages are used to communicate with the *led_emitter* and *led_driver* nodes.  The *led_emitter* takes an `LEDPattern` and constructs a set of *RGBA* values that are sent to the *led_driver* at the desired frequency, updating the state of the individual LEDs to match the pattern.  We will cover both of these nodes in more depth in the next notebook.\n",
    "\n",
    "First, let's break down the important pieces of the `duckietown_msgs/LEDPattern` and `duckietown_msgs/LED` messages and answer some key questions ...\n",
    "\n",
    "**What is the Header?**\n",
    "\n",
    "The ROS `header` passes along some standard metadata with the message, including the timestamp at which it was sent and a unique message ID number that increases consecutively with every message published.  You can find more details on the ROS documentation for the [std_msgs/Header message](http://docs.ros.org/en/melodic/api/std_msgs/html/msg/Header.html).\n",
    "\n",
    "**How are we setting the color?**\n",
    "\n",
    "The color of each LED is defined using the `R, G, B` components of the `std_msgs/ColorRGBA[] color` in the `LED` message.  Each color component is a `float32` value from 0.0-1.0 that is mapped to the 0-255 color range.  For example, a red LED would be represented as `{r: 1.0, g: 0.0, b: 0.0, a: 1.0}`\n",
    "\n",
    "**How are we setting the intensity?**\n",
    "\n",
    "The intensity, or brightness, of each LED is defined by the `A` component of the `std_msgs/ColorRGBA[] color` in the `LED` message and can range from 0.0-1.0. `A` is a commonly added `RGB` component representing the `alpha`, or opacity, which translates to brightness in the LEDs.\n",
    "\n",
    "**How are we setting the frequency?**\n",
    "\n",
    "Each LED blinks at a frequency defined by the `float32 frequency` in the `LED` messasge.\n",
    "\n",
    "**Which LED is which?**\n",
    "\n",
    "The `leds` list maps to the following LED order\n",
    "\n",
    "| Index | Position |\n",
    "| ----- | -------- |\n",
    "| 0 | Front left |\n",
    "| 1 | Rear left |\n",
    "| 2 | Rear right |\n",
    "| 3 | Front right |"
   ]
  },
  {
   "cell_type": "markdown",
   "metadata": {},
   "source": [
    "## Next Up: Sending Your Own LED Messages\n",
    "\n",
    "Now that you understand how we communicate new LED states to the Duckiebot's LED emitter, continue on to the [next notebook](./02_Sending-LED-Messages.ipynb) to dive into the architecture of the *led_emitter* node and send your own `LEDPattern` messages."
   ]
  }
 ],
 "metadata": {
  "kernelspec": {
   "display_name": "Python 3.8.10 64-bit",
   "language": "python",
   "name": "python3"
  },
  "language_info": {
   "codemirror_mode": {
    "name": "ipython",
    "version": 3
   },
   "file_extension": ".py",
   "mimetype": "text/x-python",
   "name": "python",
   "nbconvert_exporter": "python",
   "pygments_lexer": "ipython3",
   "version": "3.8.10"
  },
  "orig_nbformat": 4,
  "vscode": {
   "interpreter": {
    "hash": "916dbcbb3f70747c44a77c7bcd40155683ae19c65e1c03b4aa3499c5328201f1"
   }
  }
 },
 "nbformat": 4,
 "nbformat_minor": 2
}
